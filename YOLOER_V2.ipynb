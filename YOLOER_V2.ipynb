{
  "nbformat": 4,
  "nbformat_minor": 0,
  "metadata": {
    "colab": {
      "name": "YOLOER_V2.ipynb",
      "provenance": [],
      "collapsed_sections": [],
      "authorship_tag": "ABX9TyMty37y8FfzPwQ2buJaCXzj",
      "include_colab_link": true
    },
    "kernelspec": {
      "name": "python3",
      "display_name": "Python 3"
    },
    "language_info": {
      "name": "python"
    }
  },
  "cells": [
    {
      "cell_type": "markdown",
      "metadata": {
        "id": "view-in-github",
        "colab_type": "text"
      },
      "source": [
        "<a href=\"https://colab.research.google.com/github/HassanBinHaroon/YOLOER_V2/blob/master/YOLOER_V2.ipynb\" target=\"_parent\"><img src=\"https://colab.research.google.com/assets/colab-badge.svg\" alt=\"Open In Colab\"/></a>"
      ]
    },
    {
      "cell_type": "code",
      "execution_count": null,
      "metadata": {
        "id": "eTrvAeT33tSO"
      },
      "outputs": [],
      "source": [
        "!git clone https://github.com/HassanBinHaroon/YOLOER_V2.git"
      ]
    },
    {
      "cell_type": "code",
      "source": [
        "%cd YOLOER_V2/REAL-TIME_Distance_Estimation_with_YOLOV7"
      ],
      "metadata": {
        "id": "v_VcgnTt32yb"
      },
      "execution_count": null,
      "outputs": []
    },
    {
      "cell_type": "code",
      "source": [
        "!pip install -r requirements.txt"
      ],
      "metadata": {
        "id": "OZ_WjsCx4HpC"
      },
      "execution_count": null,
      "outputs": []
    },
    {
      "cell_type": "code",
      "source": [
        "!python setup.py"
      ],
      "metadata": {
        "id": "-IL2RHdP5YlZ"
      },
      "execution_count": null,
      "outputs": []
    },
    {
      "cell_type": "code",
      "source": [
        "!python detect.py --save-txt --weights yolov7.pt --conf 0.4 --source /content/YOLOER_V2/videos/car.jpg --model_dist model@1535470106.json --weights_dist model@1535470106.h5"
      ],
      "metadata": {
        "id": "F2FEdJO65bMR"
      },
      "execution_count": null,
      "outputs": []
    }
  ]
}